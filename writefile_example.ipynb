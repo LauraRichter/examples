{
 "cells": [
  {
   "cell_type": "code",
   "execution_count": 1,
   "id": "1805ca5e",
   "metadata": {},
   "outputs": [
    {
     "name": "stdout",
     "output_type": "stream",
     "text": [
      "Overwriting clustering_details.yaml\n"
     ]
    }
   ],
   "source": [
    "%%writefile clustering_details.yaml\n",
    "\n",
    "method: kmeans\n",
    "parameters:\n",
    "  algorithm: elkan\n",
    "  max_iter: 10000\n",
    "  n_clusters: 6\n",
    "  init: random\n",
    "step: clustering"
   ]
  },
  {
   "cell_type": "code",
   "execution_count": null,
   "id": "1b9a9e3f",
   "metadata": {},
   "outputs": [],
   "source": []
  }
 ],
 "metadata": {
  "kernelspec": {
   "display_name": "Python 3 (ipykernel)",
   "language": "python",
   "name": "python3"
  },
  "language_info": {
   "codemirror_mode": {
    "name": "ipython",
    "version": 3
   },
   "file_extension": ".py",
   "mimetype": "text/x-python",
   "name": "python",
   "nbconvert_exporter": "python",
   "pygments_lexer": "ipython3",
   "version": "3.9.1"
  }
 },
 "nbformat": 4,
 "nbformat_minor": 5
}
